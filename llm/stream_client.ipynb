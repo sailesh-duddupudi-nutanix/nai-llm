{
 "cells": [
  {
   "cell_type": "code",
   "execution_count": null,
   "metadata": {},
   "outputs": [],
   "source": [
    "import requests\n",
    "import time\n",
    "from threading import Thread\n",
    "\n",
    "def yowassup(text):\n",
    "    response = requests.post(\n",
    "        \"http://localhost:8080/predictions/gpt2\",\n",
    "        data=text,\n",
    "        stream=True,\n",
    "    )\n",
    "\n",
    "    for chunk in response.iter_content(chunk_size=None):\n",
    "        if chunk:\n",
    "            data = chunk.decode(\"utf-8\")\n",
    "            print(data, end=\"\", flush=True)\n",
    "    print(\"\")\n",
    "\n",
    "gen_kwargs1 = dict(text= \"Today the weather is really nice and I am planning on \")\n",
    "gen_kwargs2 = dict(text =\"My name is john cena and this is my story\")\n",
    "gen_kwargs3 = dict(text =\"What is democracy? Democracy is \")\n",
    "gen_kwargs4 = dict(text =\"What is dictatorship? it is\")\n",
    "thread1 = Thread(target=yowassup, kwargs=gen_kwargs1)\n",
    "thread2 = Thread(target=yowassup, kwargs=gen_kwargs2)\n",
    "thread3 = Thread(target=yowassup, kwargs=gen_kwargs3)\n",
    "thread4 = Thread(target=yowassup, kwargs=gen_kwargs4)\n",
    "thread1.start()\n",
    "thread2.start()\n",
    "thread3.start()\n",
    "thread4.start()\n",
    "thread1.join()\n",
    "thread2.join()\n",
    "thread3.join()\n",
    "thread4.join()"
   ]
  }
 ],
 "metadata": {
  "language_info": {
   "name": "python"
  }
 },
 "nbformat": 4,
 "nbformat_minor": 2
}
